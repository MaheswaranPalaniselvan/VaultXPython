{
 "cells": [
  {
   "attachments": {},
   "cell_type": "markdown",
   "metadata": {},
   "source": [
    "## Download Vault from Hashicorp from https://developer.hashicorp.com/vault/downloads\n",
    "\n",
    "## Start the dev server using the below command in PS Terminal\n",
    "\n",
    "D:\\\\software\\\\vault\\\\vault.exe server -dev"
   ]
  },
  {
   "attachments": {},
   "cell_type": "markdown",
   "metadata": {},
   "source": [
    "## Add VAULT_ADDR to env variable from the terminal output"
   ]
  },
  {
   "cell_type": "code",
   "execution_count": 15,
   "metadata": {},
   "outputs": [
    {
     "name": "stdout",
     "output_type": "stream",
     "text": [
      "http://127.0.0.1:8200\n"
     ]
    }
   ],
   "source": [
    "import os\n",
    "os.environ[\"VAULT_ADDR\"] = \"http://127.0.0.1:8200\"\n",
    "print(os.getenv(\"VAULT_ADDR\"))"
   ]
  },
  {
   "attachments": {},
   "cell_type": "markdown",
   "metadata": {},
   "source": [
    "# Check status of vault"
   ]
  },
  {
   "cell_type": "code",
   "execution_count": 17,
   "metadata": {},
   "outputs": [
    {
     "name": "stdout",
     "output_type": "stream",
     "text": [
      "Key             Value\n",
      "---             -----\n",
      "Seal Type       shamir\n",
      "Initialized     true\n",
      "Sealed          false\n",
      "Total Shares    1\n",
      "Threshold       1\n",
      "Version         1.13.2\n",
      "Build Date      2023-04-25T13:02:50Z\n",
      "Storage Type    inmem\n",
      "Cluster Name    vault-cluster-7babfc94\n",
      "Cluster ID      ef242f65-e416-aecb-ab4c-3edb51dce6d5\n",
      "HA Enabled      false\n"
     ]
    }
   ],
   "source": [
    "!\"D:\\\\software\\\\vault\\\\vault.exe\" status"
   ]
  },
  {
   "cell_type": "code",
   "execution_count": null,
   "metadata": {},
   "outputs": [],
   "source": [
    "!pip install hvac"
   ]
  },
  {
   "cell_type": "code",
   "execution_count": 77,
   "metadata": {},
   "outputs": [],
   "source": [
    "# This PoC demonstrates role-based \n",
    "# access for key-value pair secrets as example \n",
    "import os \n",
    "import hvac \n",
    "\n",
    "# Authentication \n",
    "client = hvac.Client( \n",
    "    url='http://127.0.0.1:8200', \n",
    "    token=os.environ.get('VAULT_TOKEN'), \n",
    ") \n",
    " \n",
    "# Define the policy for user 1 \n",
    "policy_name_1 = 'user-1-policy' \n",
    "policy_rules_1 = \"\"\" \n",
    "path \"secret/*\" { \n",
    "  capabilities = [\"list\"] \n",
    "} \n",
    " \n",
    "path \"secret/foo/*\" { \n",
    "  capabilities = [\"list\", \"read\"] \n",
    "} \n",
    "\"\"\" \n",
    "# Create the policy \n",
    "response = client.sys.create_or_update_policy(policy_name_1, policy_rules_1) \n",
    " \n",
    "# Define the policy for user 2 \n",
    "policy_name_2 = 'user-2-policy' \n",
    "policy_rules_2 = \"\"\" \n",
    "path \"secret/*\" { \n",
    "  capabilities = [\"list\"] \n",
    "} \n",
    " \n",
    "path \"secret/bar/*\" { \n",
    "  capabilities = [\"list\", \"read\"] \n",
    "} \n",
    "\"\"\" \n",
    "# Create the policy \n",
    "response = client.sys.create_or_update_policy(policy_name_2, policy_rules_2) \n",
    " \n",
    " \n",
    "# Enable userpass engine for UI access \n",
    "# Check if the userpass auth method is already enabled \n",
    "auth_methods = client.sys.list_auth_methods()['data'] \n",
    "if 'userpass/' not in auth_methods: \n",
    "    # Enable the userpass auth method \n",
    "    client.sys.enable_auth_method('userpass') \n",
    " \n",
    "# Assign the policy to a test user1 \n",
    "# Password same as username \n",
    "username = 'user1' \n",
    "password = username \n",
    "response = client.auth.userpass.create_or_update_user( \n",
    "    username=username, \n",
    "    password=password, \n",
    "    policies=[policy_name_1], \n",
    ") \n",
    " \n",
    "# Assign the policy to a test user1 \n",
    "# Password same as username \n",
    "username = 'user2' \n",
    "password = username \n",
    "response = client.auth.userpass.create_or_update_user( \n",
    "    username=username, \n",
    "    password=password, \n",
    "    policies=[policy_name_2], \n",
    ") \n",
    " \n",
    "# Create secrets in specified paths \n",
    "create_response = client.secrets.kv.v2.create_or_update_secret( \n",
    "    path='foo/my', \n",
    "    secret=dict(password='secret1'), \n",
    ") \n",
    " \n",
    "create_response = client.secrets.kv.v2.create_or_update_secret( \n",
    "    path='bar/my', \n",
    "    secret=dict(password='secret2'), \n",
    ") \n",
    " "
   ]
  },
  {
   "cell_type": "code",
   "execution_count": 85,
   "metadata": {},
   "outputs": [
    {
     "name": "stdout",
     "output_type": "stream",
     "text": [
      "True\n",
      "{'request_id': '65544f14-fdd5-dafe-b452-cc9dcbf98726', 'lease_id': '', 'renewable': False, 'lease_duration': 0, 'data': {'keys': ['my', 'sample']}, 'wrap_info': None, 'warnings': None, 'auth': None}\n",
      "Caught exception 1 error occurred:\t* permission denied, on get http://127.0.0.1:8200/v1/secret/data/foo/my\n",
      "Caught exception 1 error occurred:\t* permission denied, on post http://127.0.0.1:8200/v1/secret/data/foo/my\n"
     ]
    }
   ],
   "source": [
    "# Test case #1 - user 1 - check list access\n",
    "# login as user 1\n",
    "user1_client = hvac.Client( \n",
    "    url='http://127.0.0.1:8200', )\n",
    "user1_client.auth.userpass.login(\n",
    "    username=\"user1\",\n",
    "    password=\"user1\",\n",
    ")\n",
    "print(user1_client.is_authenticated()) \n",
    "\n",
    "list_response = user1_client.secrets.kv.v2.list_secrets(\n",
    "    path='foo',\n",
    ")\n",
    "print(list_response)\n",
    "\n",
    "# Test case #2 - user 1 - check read access\n",
    "try:\n",
    "    secrets_list = user1_client.secrets.kv.v2.read_secret(\n",
    "        path = 'foo/my'\n",
    "    )\n",
    "    print(secrets_list)\n",
    "    # Password is accessible because the policy has read capability\n",
    "    # https://developer.hashicorp.com/vault/docs/concepts/policies\n",
    "    print(secrets_list[\"data\"][\"data\"])\n",
    "except Exception as e:\n",
    "    exception = str(e).replace(\"\\n\", \"\")\n",
    "    print(f\"Caught exception {exception}\")\n",
    "\n",
    "# Test case #3 - user 1 - check write access\n",
    "try:\n",
    "    create_response = user1_client.secrets.kv.v2.create_or_update_secret(\n",
    "        path='foo/my',\n",
    "        secret=dict(password='sample123123'),\n",
    "    )\n",
    "except Exception as e:\n",
    "    exception = str(e).replace(\"\\n\", \"\")\n",
    "    print(f'Caught exception {exception}')\n",
    "\n"
   ]
  },
  {
   "cell_type": "code",
   "execution_count": 86,
   "metadata": {},
   "outputs": [
    {
     "name": "stdout",
     "output_type": "stream",
     "text": [
      "True\n",
      "{'request_id': 'bfd375fc-9bbf-3612-8a61-6d3e53e53e61', 'lease_id': '', 'renewable': False, 'lease_duration': 0, 'data': {'keys': ['my']}, 'wrap_info': None, 'warnings': None, 'auth': None}\n",
      "Caught exception 1 error occurred:\t* permission denied, on get http://127.0.0.1:8200/v1/secret/data/bar/my\n",
      "Caught exception 1 error occurred:\t* permission denied, on post http://127.0.0.1:8200/v1/secret/data/bar/my\n"
     ]
    }
   ],
   "source": [
    "# Test case #4 - user 2 - check list access\n",
    "# login as user 2\n",
    "user2_client = hvac.Client( \n",
    "    url='http://127.0.0.1:8200', )\n",
    "user2_client.auth.userpass.login(\n",
    "    username=\"user2\",\n",
    "    password=\"user2\",\n",
    ")\n",
    "print(user2_client.is_authenticated()) \n",
    "\n",
    "list_response = user2_client.secrets.kv.v2.list_secrets(\n",
    "    path='bar',\n",
    ")\n",
    "print(list_response)\n",
    "# Test case #5 - user 2 - check read access\n",
    "try:\n",
    "    secrets_list = user2_client.secrets.kv.v2.read_secret(\n",
    "        path = 'bar/my'\n",
    "    )\n",
    "    print(secrets_list)\n",
    "    # Password is accessible because the policy has read capability\n",
    "    # https://developer.hashicorp.com/vault/docs/concepts/policies\n",
    "    print(secrets_list[\"data\"][\"data\"])\n",
    "except Exception as e:\n",
    "    exception = str(e).replace(\"\\n\", \"\")\n",
    "    print(f\"Caught exception {exception}\")\n",
    "\n",
    "# Test case #6 - user 2 - check write access\n",
    "try:\n",
    "    create_response = user2_client.secrets.kv.v2.create_or_update_secret(\n",
    "        path='bar/my',\n",
    "        secret=dict(password='Hashi123'),\n",
    "    )\n",
    "except Exception as e:\n",
    "    exception = str(e).replace(\"\\n\", \"\")\n",
    "    print(f\"Caught exception {exception}\")\n"
   ]
  }
 ],
 "metadata": {
  "kernelspec": {
   "display_name": "Python 3",
   "language": "python",
   "name": "python3"
  },
  "language_info": {
   "codemirror_mode": {
    "name": "ipython",
    "version": 3
   },
   "file_extension": ".py",
   "mimetype": "text/x-python",
   "name": "python",
   "nbconvert_exporter": "python",
   "pygments_lexer": "ipython3",
   "version": "3.11.2"
  },
  "orig_nbformat": 4
 },
 "nbformat": 4,
 "nbformat_minor": 2
}
